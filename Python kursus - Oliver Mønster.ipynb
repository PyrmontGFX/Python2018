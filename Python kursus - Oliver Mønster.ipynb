{
 "cells": [
  {
   "cell_type": "markdown",
   "metadata": {},
   "source": [
    "# Introduktion til Jupyter Notebook Markdown\n",
    "\n",
    "Herunder vil der komme de mest anvendte kommandoer til Markdown\n",
    "\n",
    "Forskellige skrive mekanismer\n",
    "\n",
    "Kursiv: *kursiv*\n",
    "\n",
    "Fed: **Bold**\n",
    "\n",
    "Fed & Kursiv: ***Fed og kursiv***\n"
   ]
  },
  {
   "cell_type": "markdown",
   "metadata": {},
   "source": [
    "# Python for n00bs\n",
    "\n",
    "### Variabler\n",
    "\n",
    "I python er der ingen {} der er heller ingen ;. Det hele er baseret på linjeskift og indryk. Det har både fordele og ulemper. Det er derfor vigtigt at holde sig for øje at det nøjagtige antal *mellemrum/spaces* har indflydelse på det såkaldte **scope**.\n",
    "\n",
    "Ydermere kræver Python ikke en specifikation af datatype til variablen."
   ]
  },
  {
   "cell_type": "code",
   "execution_count": 9,
   "metadata": {},
   "outputs": [],
   "source": [
    "#Lad os oprette lidt variabler. Variabler kan hedde HVAD SOM HELST\n",
    "\n",
    "#Variabel der indeholder HELTAL kaldes Int eller Integers på engelsk\n",
    "\n",
    "a = 7\n",
    "hest = 2\n",
    "mor = 10\n",
    "\n",
    "#Men ingen Æ, Ø, Å, eller specialtegn\n",
    "\n",
    "pølse = 5\n",
    "\n",
    "#Kald dem noget forståeligt, og brugbart som f.eks.\n",
    "\n",
    "antal_hjul = 4\n",
    "health = 100\n",
    "ammo = 30\n",
    "\n",
    "#Variabel der indeholder KOMMATAL kaldes Float på engelsk\n",
    "\n",
    "b = 2.5\n",
    "\n",
    "#Variabel der indeholder TEKST kaldet String på engelsk.\n",
    "\n",
    "c = \"Hej\"\n",
    "\n",
    "#Variabel der indeholder Boolske værdier dsv. SANDT/FALSK kaldes Bool/Boolean på engelsk\n",
    "\n",
    "d = False\n",
    "\n",
    "#Pas på! Vi kan lave rod i det hele\n",
    "\n",
    "#d = \"Hej igen\""
   ]
  },
  {
   "cell_type": "code",
   "execution_count": 10,
   "metadata": {},
   "outputs": [
    {
     "name": "stdout",
     "output_type": "stream",
     "text": [
      "7\n"
     ]
    }
   ],
   "source": [
    "# For at undersøge hvad vi har eller hvad der gemmer sig i forskellige variabler kan vi bruge print()\n",
    "\n",
    "print(a)"
   ]
  },
  {
   "cell_type": "code",
   "execution_count": 11,
   "metadata": {},
   "outputs": [
    {
     "name": "stdout",
     "output_type": "stream",
     "text": [
      "<class 'int'>\n",
      "<class 'float'>\n",
      "<class 'str'>\n",
      "<class 'bool'>\n"
     ]
    }
   ],
   "source": [
    "# Ofte har vi brug for at se præcist hvilken type en variabel er. Til dette kan vi bruge funktionen type()\n",
    "\n",
    "# Bogstavet i () er navnet på variablen.\n",
    "print(type(a))\n",
    "print(type(b))\n",
    "print(type(c))\n",
    "print(type(d))"
   ]
  },
  {
   "cell_type": "code",
   "execution_count": null,
   "metadata": {},
   "outputs": [],
   "source": []
  }
 ],
 "metadata": {
  "kernelspec": {
   "display_name": "Python 3",
   "language": "python",
   "name": "python3"
  },
  "language_info": {
   "codemirror_mode": {
    "name": "ipython",
    "version": 3
   },
   "file_extension": ".py",
   "mimetype": "text/x-python",
   "name": "python",
   "nbconvert_exporter": "python",
   "pygments_lexer": "ipython3",
   "version": "3.7.1"
  }
 },
 "nbformat": 4,
 "nbformat_minor": 2
}
