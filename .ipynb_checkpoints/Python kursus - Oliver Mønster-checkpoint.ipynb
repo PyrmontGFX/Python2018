{
 "cells": [
  {
   "cell_type": "markdown",
   "metadata": {},
   "source": [
    "# Introduktion til Jupyter Notebook Markdown\n",
    "\n",
    "Herunder vil der komme de mest anvendte kommandoer til Markdown\n",
    "\n",
    "Forskellige skrive mekanismer\n",
    "\n",
    "Kursiv: *kursiv*\n",
    "\n",
    "Fed: **Bold**\n",
    "\n",
    "Fed & Kursiv: ***Fed og kursiv***\n"
   ]
  },
  {
   "cell_type": "markdown",
   "metadata": {},
   "source": [
    "# Python for n00bs\n",
    "\n",
    "### Variabler\n",
    "\n",
    "I python er der ingen {} der er heller ingen ;. Det hele er baseret på linjeskift og indryk. Det har både fordele og ulemper. Det er derfor vigtigt at holde sig for øje at det nøjagtige antal *mellemrum/spaces* har indflydelse på det såkaldte **scope**.\n",
    "\n",
    "Ydermere kræver Python ikke en specifikation af datatype til variablen."
   ]
  },
  {
   "cell_type": "code",
   "execution_count": 1,
   "metadata": {},
   "outputs": [],
   "source": [
    "#Lad os oprette lidt variabler. Variabler kan hedde HVAD SOM HELST\n",
    "\n",
    "#Variabel der indeholder HELTAL kaldes Int eller Integers på engelsk\n",
    "\n",
    "a = 7\n",
    "hest = 2\n",
    "mor = 10\n",
    "\n",
    "#Men ingen Æ, Ø, Å, eller specialtegn. Så kun (A-Z) (a-z) og (0-9)\n",
    "\n",
    "pølse = 5\n",
    "\n",
    "#Kald dem noget forståeligt, og brugbart som f.eks.\n",
    "\n",
    "antal_hjul = 4\n",
    "health = 100\n",
    "ammo = 30\n",
    "speed = 0\n",
    "\n",
    "#Variabel der indeholder KOMMATAL kaldes Float på engelsk\n",
    "\n",
    "b = 2.5\n",
    "\n",
    "#Variabel der indeholder TEKST kaldet String på engelsk.\n",
    "\n",
    "c = \"Hej\"\n",
    "\n",
    "#Variabel der indeholder Boolske værdier dsv. SANDT/FALSK kaldes Bool/Boolean på engelsk\n",
    "\n",
    "d = False\n",
    "\n",
    "#Pas på! Vi kan lave rod i det hele\n",
    "\n",
    "#d = \"Hej igen\""
   ]
  },
  {
   "cell_type": "code",
   "execution_count": 2,
   "metadata": {},
   "outputs": [
    {
     "name": "stdout",
     "output_type": "stream",
     "text": [
      "7\n"
     ]
    }
   ],
   "source": [
    "# For at undersøge hvad vi har eller hvad der gemmer sig i forskellige variabler kan vi bruge print()\n",
    "\n",
    "print(a)"
   ]
  },
  {
   "cell_type": "code",
   "execution_count": 3,
   "metadata": {
    "scrolled": true
   },
   "outputs": [
    {
     "name": "stdout",
     "output_type": "stream",
     "text": [
      "<class 'int'>\n",
      "<class 'float'>\n",
      "<class 'str'>\n",
      "<class 'bool'>\n"
     ]
    }
   ],
   "source": [
    "# Ofte har vi brug for at se præcist hvilken type en variabel er. Til dette kan vi bruge funktionen type()\n",
    "\n",
    "# Bogstavet i () er navnet på variablen.\n",
    "print(type(a))\n",
    "print(type(b))\n",
    "print(type(c))\n",
    "print(type(d))"
   ]
  },
  {
   "cell_type": "markdown",
   "metadata": {},
   "source": [
    "## Kontrolstrukturer"
   ]
  },
  {
   "cell_type": "code",
   "execution_count": 4,
   "metadata": {},
   "outputs": [
    {
     "name": "stdout",
     "output_type": "stream",
     "text": [
      "100 er et positivt nummer!\n",
      "Mor bliver 48 i år!\n",
      "Hesten er ikke klar til at blive lukket ud af stalden!\n",
      "Du kan ikke tilføje flere til MESSAGE\n"
     ]
    }
   ],
   "source": [
    "# Hvis noget så gør vi noget\n",
    "mor = 48\n",
    "message = 1\n",
    "test = 0\n",
    "hest = 1\n",
    "num = 100\n",
    "\n",
    "#Nummer + print af hvilket nummer og hvad det er (positivt, ikke defineret & negativt)\n",
    "if num > 0:\n",
    "    print(num, \"er et positivt nummer!\")\n",
    "    \n",
    "elif num == 0:\n",
    "    print(\"NULL (Sæt venligst til et nummer!)\")\n",
    "\n",
    "else:\n",
    "    print(num, \"er et negativt nummer!\")\n",
    "    \n",
    "\n",
    "#Mor variable, hvis mor er mindre end 90 print tekst!\n",
    "if mor > 0:\n",
    "    #skriv tekst her\n",
    "    print(\"Mor bliver\", mor,\"i år!\")\n",
    "\n",
    "#Hest variabel, hvis hest = 2 print tekst men hvis den ikke er det print tekst!\n",
    "if hest == 2:\n",
    "    print(\"Hesten blev lukket ud af stalden!\")\n",
    "\n",
    "else:\n",
    "    print(\"Hesten er ikke klar til at blive lukket ud af stalden!\")\n",
    "\n",
    "\n",
    "#Message variabel. Tilføj 1 til message hvis variabel er større eller = 0 print tekst, ellers print tekst.\n",
    "if message <= 0:\n",
    "    message = message + 1\n",
    "    print(\"Tilføjede 1 til MESSAGE\")\n",
    "else:\n",
    "    print(\"Du kan ikke tilføje flere til MESSAGE\")"
   ]
  },
  {
   "cell_type": "code",
   "execution_count": 5,
   "metadata": {},
   "outputs": [
    {
     "name": "stdout",
     "output_type": "stream",
     "text": [
      "Skriv noget vås: bøøøh\n"
     ]
    }
   ],
   "source": [
    "# Lets talk about INPUT\n",
    "\n",
    "playerInput  = input(\"Skriv noget vås: \")\n"
   ]
  },
  {
   "cell_type": "code",
   "execution_count": 6,
   "metadata": {},
   "outputs": [
    {
     "data": {
      "text/plain": [
       "str"
      ]
     },
     "execution_count": 6,
     "metadata": {},
     "output_type": "execute_result"
    }
   ],
   "source": [
    "playerInput\n",
    "type(playerInput)"
   ]
  },
  {
   "cell_type": "code",
   "execution_count": 7,
   "metadata": {},
   "outputs": [],
   "source": [
    "#IDE TIL HISTORIE\n",
    "\n",
    "#state = 0\n",
    "\n",
    "#if state == 0:\n",
    "#    print(\"Det var en mørk og stormfuld aften...\")\n",
    "#    print(\"BANK BANK BANK.... Hold da kæft hvor du larmer mand! Du smadre jo døren!\")\n",
    "#    valg = input(\"Vil du åbne døren? JA/NEJ\")\n",
    "\n",
    "#    if valg == \"j\" or valg == \"J\":\n",
    "#        state = 1\n",
    "#    elif valg == \"n\" or valg == \"N\":\n",
    "#        print(\"Der kommer ingen mad de næste 100 dage. Du dør derfor at sult! GAME OVER.\")\n",
    "#    else:\n",
    "#        print(\"Er du dum eller hvad? (JA/NEJ)\")\n",
    "        \n",
    "#if state == 1:\n",
    "#    print(\"Det var pizzamanden du åbnede for og fik derfor 100 liv! Efter du spiste din pizza.\")\n",
    "#"
   ]
  },
  {
   "cell_type": "markdown",
   "metadata": {},
   "source": [
    "## Historien"
   ]
  },
  {
   "cell_type": "code",
   "execution_count": null,
   "metadata": {},
   "outputs": [
    {
     "name": "stdout",
     "output_type": "stream",
     "text": [
      "Velkommen til THE ADVENTURE GAME!\n",
      "Vil du være med til at spille et lille spil? (JA/NEJ) Ja\n",
      "   \n",
      "Du kommer til en skillevej, hvilken vej går du? (Venstre/Højre) Højre\n",
      "   \n"
     ]
    }
   ],
   "source": [
    "import time\n",
    "While True:\n",
    "    print(\"Velkommen til THE ADVENTURE GAME!\")\n",
    "    time.sleep(3)\n",
    "\n",
    "    svar = input(\"Vil du være med til at spille et lille spil? (JA/NEJ) \")\n",
    "\n",
    "    if svar == \"JA\" or \"ja\":\n",
    "        time.sleep(1)\n",
    "        print(\"   \")\n",
    "        svar = input(\"Du kommer til en skillevej, hvilken vej går du? (Venstre/Højre) \")\n",
    "        if svar == \"venstre\" or \"Venstre\" or \"VENSTRE\":\n",
    "            time.sleep(1)\n",
    "            print(\"   \")\n",
    "            svar = input(\"Du møder et monster! Hvad gør du? (Løb/Kæmp) \")\n",
    "\n",
    "            if svar == \"Kæmp\":\n",
    "                time.sleep(1)\n",
    "                print(\"   \")\n",
    "                print(\"Det var ikke den smarteste ide! Du blev overmandet og døde i kamp... GAME OVER!\")\n",
    "            else:\n",
    "                time.sleep(1)\n",
    "                print(\"   \")\n",
    "                print(\"Godt tænkt! Du nåede sikkert væk!\")\n",
    "\n",
    "                time.sleep(1)\n",
    "                print(\"   \")\n",
    "                print(\"Du ser en mand der står ved en taxi, og et fly...\")\n",
    "                svar = input(\"Hvad vælger du (Taxi/Fly) \")\n",
    "\n",
    "                if svar == \"fly\":\n",
    "                    time.sleep(1)\n",
    "                    print(\"   \")\n",
    "                    print(\"Du går ind i flyet og ser det er et første klasses fly!\")\n",
    "                    time.sleep(1)\n",
    "                    print(\"   \")\n",
    "                    print(\"Du flyver sikkert hjem i ren luksus... DU VANDT!\")\n",
    "\n",
    "\n",
    "        else:\n",
    "            time.sleep(1)\n",
    "            print(\"   \")\n",
    "            print(\"Du går i uendelig lang tid, og dør af tørst... GAME OVER!\")\n",
    "\n",
    "    else:\n",
    "        time.sleep(1)\n",
    "        print(\"   \")\n",
    "        print(\"Det var bare ærgeligt!\")\n",
    "        break"
   ]
  },
  {
   "cell_type": "code",
   "execution_count": null,
   "metadata": {},
   "outputs": [],
   "source": []
  },
  {
   "cell_type": "code",
   "execution_count": null,
   "metadata": {},
   "outputs": [],
   "source": []
  }
 ],
 "metadata": {
  "kernelspec": {
   "display_name": "Python 3",
   "language": "python",
   "name": "python3"
  },
  "language_info": {
   "codemirror_mode": {
    "name": "ipython",
    "version": 3
   },
   "file_extension": ".py",
   "mimetype": "text/x-python",
   "name": "python",
   "nbconvert_exporter": "python",
   "pygments_lexer": "ipython3",
   "version": "3.7.1"
  }
 },
 "nbformat": 4,
 "nbformat_minor": 2
}
